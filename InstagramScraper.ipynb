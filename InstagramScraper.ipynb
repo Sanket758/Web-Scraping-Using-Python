{
  "nbformat": 4,
  "nbformat_minor": 0,
  "metadata": {
    "colab": {
      "name": "InstagramScraper.ipynb",
      "provenance": [],
      "include_colab_link": true
    },
    "kernelspec": {
      "name": "python3",
      "display_name": "Python 3"
    }
  },
  "cells": [
    {
      "cell_type": "markdown",
      "metadata": {
        "id": "view-in-github",
        "colab_type": "text"
      },
      "source": [
        "<a href=\"https://colab.research.google.com/github/Sanket758/Web-Scraping-Using-Python/blob/master/InstagramScraper.ipynb\" target=\"_parent\"><img src=\"https://colab.research.google.com/assets/colab-badge.svg\" alt=\"Open In Colab\"/></a>"
      ]
    },
    {
      "cell_type": "code",
      "metadata": {
        "id": "2A4ZSdNucBvQ",
        "colab_type": "code",
        "colab": {}
      },
      "source": [
        "import requests\n",
        "import urllib.request\n",
        "import urllib.parse\n",
        "import urllib.error\n",
        "from bs4 import BeautifulSoup\n",
        "import ssl\n",
        "import json"
      ],
      "execution_count": 0,
      "outputs": []
    },
    {
      "cell_type": "code",
      "metadata": {
        "id": "_nPYUVrucLeH",
        "colab_type": "code",
        "colab": {}
      },
      "source": [
        "\n",
        "class Insta_Info_Scraper:\n",
        "\n",
        "    def getinfo(self, url):\n",
        "        html = urllib.request.urlopen(url, context=self.ctx).read()\n",
        "        soup = BeautifulSoup(html, 'html.parser')\n",
        "        #print(soup.prettify())\n",
        "        data = soup.find_all('meta', attrs={'property': 'og:description'})\n",
        "        text = data[0].get('content').split()\n",
        "        user = '%s %s' % (text[-2], text[-1])\n",
        "        followers = text[0]\n",
        "        following = text[2]\n",
        "        posts = text[4]\n",
        "        print ('User:', user)\n",
        "        print ('Followers:', followers)\n",
        "        print ('Following:', following)\n",
        "        print ('Posts:', posts)\n",
        "        print ('---------------------------')\n",
        "\n",
        "    def main(self):\n",
        "        self.ctx = ssl.create_default_context()\n",
        "        self.ctx.check_hostname = False\n",
        "        self.ctx.verify_mode = ssl.CERT_NONE\n",
        "\n",
        "        url = input(\"give url: \")\n",
        "        self.getinfo(url)\n"
      ],
      "execution_count": 0,
      "outputs": []
    },
    {
      "cell_type": "code",
      "metadata": {
        "id": "NMlKmEogchaC",
        "colab_type": "code",
        "colab": {
          "base_uri": "https://localhost:8080/",
          "height": 123
        },
        "outputId": "191c1dee-7008-4105-9648-c46731a6748d"
      },
      "source": [
        "if __name__ == '__main__':\n",
        "    obj = Insta_Info_Scraper()\n",
        "    obj.main()\n"
      ],
      "execution_count": 36,
      "outputs": [
        {
          "output_type": "stream",
          "text": [
            "give url: https://www.instagram.com/lostguy5/\n",
            "User: HotCoder (@lostguy5)\n",
            "Followers: 44\n",
            "Following: 44\n",
            "Posts: 26\n",
            "---------------------------\n"
          ],
          "name": "stdout"
        }
      ]
    },
    {
      "cell_type": "code",
      "metadata": {
        "id": "clPZxxhodE6X",
        "colab_type": "code",
        "colab": {}
      },
      "source": [
        ""
      ],
      "execution_count": 0,
      "outputs": []
    }
  ]
}